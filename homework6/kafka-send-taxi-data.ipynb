{
 "cells": [
  {
   "cell_type": "code",
   "execution_count": 1,
   "id": "f414c2db-fbc1-49a5-990c-e5201b293034",
   "metadata": {},
   "outputs": [],
   "source": [
    "import json\n",
    "import time\n",
    "from kafka import KafkaProducer\n",
    "import pandas as pd"
   ]
  },
  {
   "cell_type": "code",
   "execution_count": 2,
   "id": "ff480a96-2cc3-40c7-9e9f-ef7539498b24",
   "metadata": {},
   "outputs": [
    {
     "data": {
      "text/plain": [
       "True"
      ]
     },
     "execution_count": 2,
     "metadata": {},
     "output_type": "execute_result"
    }
   ],
   "source": [
    "def json_serializer(data):\n",
    "    return json.dumps(data).encode('utf-8')\n",
    "\n",
    "server = 'localhost:9092'\n",
    "\n",
    "producer = KafkaProducer(\n",
    "    bootstrap_servers=[server],\n",
    "    value_serializer=json_serializer\n",
    ")\n",
    "\n",
    "producer.bootstrap_connected()"
   ]
  },
  {
   "cell_type": "code",
   "execution_count": 3,
   "id": "17291b5e-1384-4176-963f-6ccc6336ec0f",
   "metadata": {},
   "outputs": [],
   "source": [
    "data_file = 'green_tripdata_2019-10.csv.gz'\n",
    "trips_topic='green-trips'"
   ]
  },
  {
   "cell_type": "code",
   "execution_count": 4,
   "id": "f0e09c4a-78c0-494f-af3e-7d274278f346",
   "metadata": {},
   "outputs": [],
   "source": [
    "columns_to_select = ['lpep_pickup_datetime', 'lpep_dropoff_datetime', 'PULocationID', 'DOLocationID', 'passenger_count', 'trip_distance', 'tip_amount']\n",
    "df_green = pd.read_csv('green_tripdata_2019-10.csv.gz', usecols=columns_to_select)"
   ]
  },
  {
   "cell_type": "code",
   "execution_count": 5,
   "id": "d1e251ca-9a91-443a-b476-a53e7568fef6",
   "metadata": {},
   "outputs": [
    {
     "name": "stdout",
     "output_type": "stream",
     "text": [
      "took 70.33 seconds\n"
     ]
    }
   ],
   "source": [
    "t0 = time.time()\n",
    "\n",
    "for row in df_green.itertuples(index=False):\n",
    "    row_dict = {col: getattr(row, col) for col in row._fields}\n",
    "    producer.send(trips_topic, value=row_dict)\n",
    "\n",
    "print(f'took {(time.time() - t0):.2f} seconds')"
   ]
  },
  {
   "cell_type": "code",
   "execution_count": null,
   "id": "9a60d7b7-b201-42e5-9d8e-2f403653a695",
   "metadata": {},
   "outputs": [],
   "source": []
  }
 ],
 "metadata": {
  "kernelspec": {
   "display_name": "Python 3 (ipykernel)",
   "language": "python",
   "name": "python3"
  },
  "language_info": {
   "codemirror_mode": {
    "name": "ipython",
    "version": 3
   },
   "file_extension": ".py",
   "mimetype": "text/x-python",
   "name": "python",
   "nbconvert_exporter": "python",
   "pygments_lexer": "ipython3",
   "version": "3.11.9"
  }
 },
 "nbformat": 4,
 "nbformat_minor": 5
}
